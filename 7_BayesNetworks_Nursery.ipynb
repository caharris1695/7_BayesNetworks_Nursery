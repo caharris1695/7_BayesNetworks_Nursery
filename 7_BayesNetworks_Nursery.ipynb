{
  "nbformat": 4,
  "nbformat_minor": 0,
  "metadata": {
    "colab": {
      "name": "7_BayesNetworks_Nursery.ipynb",
      "provenance": [],
      "collapsed_sections": []
    },
    "kernelspec": {
      "name": "python3",
      "display_name": "Python 3"
    }
  },
  "cells": [
    {
      "cell_type": "code",
      "metadata": {
        "id": "9pTWatkOtJ0J"
      },
      "source": [
        "# Dataset Name: Nursery Dataset\n",
        "# Dataset Location: https://archive.ics.uci.edu/ml/datasets/Nursery\n",
        "# Paper Read: \n",
        "# Date Started: 11/7/2020\n",
        "# Algorithm: Bayesian Networks\n",
        "\n",
        "# Goal: Find the structure of the network with variables given\n",
        "\n",
        "# Attribute Information:\n",
        "# parents: usual, pretentious, great_pret\n",
        "# has_nurs: proper, less_proper, improper, critical, very_crit\n",
        "# form: complete, completed, incomplete, foster\n",
        "# children: 1, 2, 3, more\n",
        "# housing: convenient, less_conv, critical\n",
        "# finance: convenient, inconv\n",
        "# social: non-prob, slightly_prob, problematic\n",
        "# health: recommended, priority, not_recom\n"
      ],
      "execution_count": 1,
      "outputs": []
    },
    {
      "cell_type": "code",
      "metadata": {
        "id": "Xsse9G1AtLQ-",
        "outputId": "4c9cc017-dccf-481f-d5bb-d8e151ee1170",
        "colab": {
          "base_uri": "https://localhost:8080/"
        }
      },
      "source": [
        "# Imports for Probablistic graphical models and Bayesian Networks\n",
        "import networkx as nx\n",
        "import pylab\n",
        "!pip install pgmpy\n",
        "from pgmpy.estimators import BayesianEstimator, MaximumLikelihoodEstimator, ParameterEstimator, PC, HillClimbSearch, ExhaustiveSearch, TreeSearch\n",
        "from pgmpy.utils import get_example_model\n",
        "from pgmpy.sampling import BayesianModelSampling\n",
        "from pgmpy.models import BayesianModel\n",
        "from pgmpy.factors.discrete import TabularCPD\n",
        "from pgmpy.inference import VariableElimination\n",
        "\n",
        "# How the progress bar is done\n",
        "from tqdm import trange\n",
        "\n",
        "# Standard Machine Learning Imports\n",
        "import pandas as pd\n",
        "import numpy as np\n",
        "import matplotlib.pyplot as plt\n",
        "import seaborn as sns\n",
        "from sklearn.utils import shuffle\n",
        "\n"
      ],
      "execution_count": 2,
      "outputs": [
        {
          "output_type": "stream",
          "text": [
            "Collecting pgmpy\n",
            "\u001b[?25l  Downloading https://files.pythonhosted.org/packages/22/16/e2edff21fca7a2cacaedd293caaaae5eaea832af0dd347c1159b4455be6b/pgmpy-0.1.12-py3-none-any.whl (322kB)\n",
            "\r\u001b[K     |█                               | 10kB 15.1MB/s eta 0:00:01\r\u001b[K     |██                              | 20kB 10.8MB/s eta 0:00:01\r\u001b[K     |███                             | 30kB 6.7MB/s eta 0:00:01\r\u001b[K     |████                            | 40kB 6.4MB/s eta 0:00:01\r\u001b[K     |█████                           | 51kB 4.4MB/s eta 0:00:01\r\u001b[K     |██████                          | 61kB 4.5MB/s eta 0:00:01\r\u001b[K     |███████                         | 71kB 5.1MB/s eta 0:00:01\r\u001b[K     |████████▏                       | 81kB 4.9MB/s eta 0:00:01\r\u001b[K     |█████████▏                      | 92kB 5.3MB/s eta 0:00:01\r\u001b[K     |██████████▏                     | 102kB 5.3MB/s eta 0:00:01\r\u001b[K     |███████████▏                    | 112kB 5.3MB/s eta 0:00:01\r\u001b[K     |████████████▏                   | 122kB 5.3MB/s eta 0:00:01\r\u001b[K     |█████████████▏                  | 133kB 5.3MB/s eta 0:00:01\r\u001b[K     |██████████████▏                 | 143kB 5.3MB/s eta 0:00:01\r\u001b[K     |███████████████▏                | 153kB 5.3MB/s eta 0:00:01\r\u001b[K     |████████████████▎               | 163kB 5.3MB/s eta 0:00:01\r\u001b[K     |█████████████████▎              | 174kB 5.3MB/s eta 0:00:01\r\u001b[K     |██████████████████▎             | 184kB 5.3MB/s eta 0:00:01\r\u001b[K     |███████████████████▎            | 194kB 5.3MB/s eta 0:00:01\r\u001b[K     |████████████████████▎           | 204kB 5.3MB/s eta 0:00:01\r\u001b[K     |█████████████████████▎          | 215kB 5.3MB/s eta 0:00:01\r\u001b[K     |██████████████████████▎         | 225kB 5.3MB/s eta 0:00:01\r\u001b[K     |███████████████████████▍        | 235kB 5.3MB/s eta 0:00:01\r\u001b[K     |████████████████████████▍       | 245kB 5.3MB/s eta 0:00:01\r\u001b[K     |█████████████████████████▍      | 256kB 5.3MB/s eta 0:00:01\r\u001b[K     |██████████████████████████▍     | 266kB 5.3MB/s eta 0:00:01\r\u001b[K     |███████████████████████████▍    | 276kB 5.3MB/s eta 0:00:01\r\u001b[K     |████████████████████████████▍   | 286kB 5.3MB/s eta 0:00:01\r\u001b[K     |█████████████████████████████▍  | 296kB 5.3MB/s eta 0:00:01\r\u001b[K     |██████████████████████████████▍ | 307kB 5.3MB/s eta 0:00:01\r\u001b[K     |███████████████████████████████▌| 317kB 5.3MB/s eta 0:00:01\r\u001b[K     |████████████████████████████████| 327kB 5.3MB/s \n",
            "\u001b[?25hRequirement already satisfied: networkx in /usr/local/lib/python3.6/dist-packages (from pgmpy) (2.5)\n",
            "Requirement already satisfied: statsmodels in /usr/local/lib/python3.6/dist-packages (from pgmpy) (0.10.2)\n",
            "Requirement already satisfied: scipy in /usr/local/lib/python3.6/dist-packages (from pgmpy) (1.4.1)\n",
            "Requirement already satisfied: pyparsing in /usr/local/lib/python3.6/dist-packages (from pgmpy) (2.4.7)\n",
            "Requirement already satisfied: pandas in /usr/local/lib/python3.6/dist-packages (from pgmpy) (1.1.4)\n",
            "Requirement already satisfied: numpy in /usr/local/lib/python3.6/dist-packages (from pgmpy) (1.18.5)\n",
            "Requirement already satisfied: tqdm in /usr/local/lib/python3.6/dist-packages (from pgmpy) (4.41.1)\n",
            "Requirement already satisfied: scikit-learn in /usr/local/lib/python3.6/dist-packages (from pgmpy) (0.22.2.post1)\n",
            "Requirement already satisfied: torch in /usr/local/lib/python3.6/dist-packages (from pgmpy) (1.7.0+cu101)\n",
            "Requirement already satisfied: joblib in /usr/local/lib/python3.6/dist-packages (from pgmpy) (0.17.0)\n",
            "Requirement already satisfied: decorator>=4.3.0 in /usr/local/lib/python3.6/dist-packages (from networkx->pgmpy) (4.4.2)\n",
            "Requirement already satisfied: patsy>=0.4.0 in /usr/local/lib/python3.6/dist-packages (from statsmodels->pgmpy) (0.5.1)\n",
            "Requirement already satisfied: pytz>=2017.2 in /usr/local/lib/python3.6/dist-packages (from pandas->pgmpy) (2018.9)\n",
            "Requirement already satisfied: python-dateutil>=2.7.3 in /usr/local/lib/python3.6/dist-packages (from pandas->pgmpy) (2.8.1)\n",
            "Requirement already satisfied: dataclasses in /usr/local/lib/python3.6/dist-packages (from torch->pgmpy) (0.7)\n",
            "Requirement already satisfied: future in /usr/local/lib/python3.6/dist-packages (from torch->pgmpy) (0.16.0)\n",
            "Requirement already satisfied: typing-extensions in /usr/local/lib/python3.6/dist-packages (from torch->pgmpy) (3.7.4.3)\n",
            "Requirement already satisfied: six in /usr/local/lib/python3.6/dist-packages (from patsy>=0.4.0->statsmodels->pgmpy) (1.15.0)\n",
            "Installing collected packages: pgmpy\n",
            "Successfully installed pgmpy-0.1.12\n"
          ],
          "name": "stdout"
        },
        {
          "output_type": "stream",
          "text": [
            "/usr/local/lib/python3.6/dist-packages/statsmodels/tools/_testing.py:19: FutureWarning: pandas.util.testing is deprecated. Use the functions in the public API at pandas.testing instead.\n",
            "  import pandas.util.testing as tm\n"
          ],
          "name": "stderr"
        }
      ]
    },
    {
      "cell_type": "code",
      "metadata": {
        "id": "bzbabqZMvILM",
        "outputId": "2a6fbbcb-8bbb-4c55-963f-27c21e7025e2",
        "colab": {
          "resources": {
            "http://localhost:8080/nbextensions/google.colab/files.js": {
              "data": "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",
              "ok": true,
              "headers": [
                [
                  "content-type",
                  "application/javascript"
                ]
              ],
              "status": 200,
              "status_text": ""
            }
          },
          "base_uri": "https://localhost:8080/",
          "height": 246
        }
      },
      "source": [
        "# Import local files into google colab\n",
        "from google.colab import files\n",
        "uploaded = files.upload()"
      ],
      "execution_count": 3,
      "outputs": [
        {
          "output_type": "display_data",
          "data": {
            "text/html": [
              "\n",
              "     <input type=\"file\" id=\"files-25565a8c-1a29-4a34-93f5-d9bebc1b7a3d\" name=\"files[]\" multiple disabled\n",
              "        style=\"border:none\" />\n",
              "     <output id=\"result-25565a8c-1a29-4a34-93f5-d9bebc1b7a3d\">\n",
              "      Upload widget is only available when the cell has been executed in the\n",
              "      current browser session. Please rerun this cell to enable.\n",
              "      </output>\n",
              "      <script src=\"/nbextensions/google.colab/files.js\"></script> "
            ],
            "text/plain": [
              "<IPython.core.display.HTML object>"
            ]
          },
          "metadata": {
            "tags": []
          }
        },
        {
          "output_type": "stream",
          "text": [
            "Saving EMPLOY.txt to EMPLOY.txt\n",
            "Saving nursery.data to nursery.data\n",
            "Saving nursery.names to nursery.names\n",
            "Saving SOCIAL_HEALTH.txt to SOCIAL_HEALTH.txt\n",
            "Saving STRUCTURE.txt to STRUCTURE.txt\n",
            "Saving STRUCTURE_FINANCE.txt to STRUCTURE_FINANCE.txt\n"
          ],
          "name": "stdout"
        }
      ]
    },
    {
      "cell_type": "code",
      "metadata": {
        "id": "oMCL8S6OvNEa",
        "outputId": "78b13029-9190-4b76-dbf0-5225da96f46b",
        "colab": {
          "base_uri": "https://localhost:8080/"
        }
      },
      "source": [
        "# Upload the data\n",
        "leaf_nodes = ['parents', 'has_nurs','form', 'children', 'housing', 'finance', 'social', 'health', 'target']\n",
        "df = pd.read_csv('nursery.data', names=leaf_nodes)\n",
        "# Head of the Dataframe\n",
        "print(df.columns)"
      ],
      "execution_count": 4,
      "outputs": [
        {
          "output_type": "stream",
          "text": [
            "Index(['parents', 'has_nurs', 'form', 'children', 'housing', 'finance',\n",
            "       'social', 'health', 'target'],\n",
            "      dtype='object')\n"
          ],
          "name": "stdout"
        }
      ]
    },
    {
      "cell_type": "code",
      "metadata": {
        "id": "NTf9Gb71f-5G"
      },
      "source": [
        "# Load in values of nodes not in dataset\n",
        "def new_aggregate(data, txt, leaf_names, new_col_name):\n",
        "  agg_map = {}\n",
        "  for line in open(txt).readlines():\n",
        "    line_list = line.split()\n",
        "    # keys = (line_list[0], line_list[1])\n",
        "    keys = tuple([i for i in line_list[:-1]])\n",
        "    val = line_list[-1]\n",
        "    agg_map[keys] = val\n",
        "  data[new_col_name] = np.nan\n",
        "  new_col = []\n",
        "  for row in data.iterrows():\n",
        "    row_series = row[1]\n",
        "    row_key = tuple([row_series[name] for name in leaf_names])\n",
        "    new_col_value = agg_map[row_key]\n",
        "    new_col.append(new_col_value)\n",
        "\n",
        "  data[new_col_name] = new_col \n",
        "  return data\n",
        "employ_names = ['parents', 'has_nurs']\n",
        "df = new_aggregate(df,'EMPLOY.txt', employ_names, 'EMPLOY')\n",
        "structure_names = ['form','children']\n",
        "df = new_aggregate(df,'STRUCTURE.txt', structure_names,'STRUCTURE')\n",
        "soc_health_names =  ['social','health']\n",
        "df = new_aggregate(df,'SOCIAL_HEALTH.txt', soc_health_names, 'SOC_HEALTH')\n",
        "structure_finan_names =  ['STRUCTURE','housing','finance']\n",
        "df = new_aggregate(df,'STRUCTURE_FINANCE.txt', structure_finan_names, 'STRUCTURE_FINAN')"
      ],
      "execution_count": 5,
      "outputs": []
    },
    {
      "cell_type": "code",
      "metadata": {
        "id": "7ccajJy-vNoM",
        "outputId": "a5773f20-9c76-49d5-9aa0-de137d562ba7",
        "colab": {
          "base_uri": "https://localhost:8080/"
        }
      },
      "source": [
        "# Number of Unique Values for Each of a attributes \n",
        "df.nunique()"
      ],
      "execution_count": 6,
      "outputs": [
        {
          "output_type": "execute_result",
          "data": {
            "text/plain": [
              "parents            3\n",
              "has_nurs           5\n",
              "form               4\n",
              "children           4\n",
              "housing            3\n",
              "finance            2\n",
              "social             3\n",
              "health             3\n",
              "target             5\n",
              "EMPLOY             4\n",
              "STRUCTURE          3\n",
              "SOC_HEALTH         3\n",
              "STRUCTURE_FINAN    3\n",
              "dtype: int64"
            ]
          },
          "metadata": {
            "tags": []
          },
          "execution_count": 6
        }
      ]
    },
    {
      "cell_type": "code",
      "metadata": {
        "id": "txmUqEC8zz2B",
        "outputId": "686f74ab-1bbb-46ba-fac2-29830d669a17",
        "colab": {
          "base_uri": "https://localhost:8080/"
        }
      },
      "source": [
        "# Length of the dataframe\n",
        "N = len(df)\n",
        "print(\"Number of rows: \", N)"
      ],
      "execution_count": 7,
      "outputs": [
        {
          "output_type": "stream",
          "text": [
            "Number of rows:  12960\n"
          ],
          "name": "stdout"
        }
      ]
    },
    {
      "cell_type": "code",
      "metadata": {
        "id": "8m7RcTAhvNyu",
        "outputId": "bacb8380-644e-4ca4-b74d-a7ed972bdfbc",
        "colab": {
          "base_uri": "https://localhost:8080/"
        }
      },
      "source": [
        "# EDA\n",
        "# Look at the Target class balance/imbalance \n",
        "df.target.value_counts()/N"
      ],
      "execution_count": 8,
      "outputs": [
        {
          "output_type": "execute_result",
          "data": {
            "text/plain": [
              "not_recom     0.333333\n",
              "priority      0.329167\n",
              "spec_prior    0.312037\n",
              "very_recom    0.025309\n",
              "recommend     0.000154\n",
              "Name: target, dtype: float64"
            ]
          },
          "metadata": {
            "tags": []
          },
          "execution_count": 8
        }
      ]
    },
    {
      "cell_type": "code",
      "metadata": {
        "id": "KVVYy9-k1ZP7"
      },
      "source": [
        "# Split the Data into train and test sets\n",
        "from sklearn.model_selection import train_test_split\n",
        "from sklearn.utils import shuffle\n",
        "targets = df['target']\n",
        "features = df.drop(['target'], axis=1)\n",
        "X_train, X_test, y_train, y_test = train_test_split(features, targets, test_size=0.33)\n",
        "train_data = pd.concat([X_train,y_train], axis=1)\n",
        "train_data = shuffle(train_data)\n",
        "test_data = pd.concat([X_test, y_test], axis=1)\n",
        "test_data = shuffle(test_data)"
      ],
      "execution_count": 9,
      "outputs": []
    },
    {
      "cell_type": "code",
      "metadata": {
        "id": "S6spomdGvN5Y",
        "outputId": "379b97a5-6773-4f3b-d181-6ea3ca888514",
        "colab": {
          "base_uri": "https://localhost:8080/"
        }
      },
      "source": [
        "# Learn the Structure of the data \n",
        "from itertools import permutations\n",
        "est = HillClimbSearch(data=train_data, use_cache=False)\n",
        "# The model does not use leaf nodes \n",
        "blacklisted_edges = set(permutations(leaf_nodes, 2))\n",
        "# k2score was bad for this model \n",
        "estimated_model = est.estimate(scoring_method=\"bdeuscore\",black_list=blacklisted_edges)"
      ],
      "execution_count": 11,
      "outputs": [
        {
          "output_type": "stream",
          "text": [
            "  0%|          | 13/1000000 [00:03<70:40:22,  3.93it/s]\n"
          ],
          "name": "stderr"
        }
      ]
    },
    {
      "cell_type": "code",
      "metadata": {
        "id": "dSEck_suvN_J",
        "outputId": "dc2d2eb7-e27a-45f4-c673-67aa8cfffa53",
        "colab": {
          "base_uri": "https://localhost:8080/",
          "height": 319
        }
      },
      "source": [
        "# Draw the Model\n",
        "nx.draw(estimated_model, with_labels=True)\n",
        "pylab.show()"
      ],
      "execution_count": 12,
      "outputs": [
        {
          "output_type": "display_data",
          "data": {
            "image/png": "[encoded data removed]",
            "text/plain": [
              "<Figure size 432x288 with 1 Axes>"
            ]
          },
          "metadata": {
            "tags": []
          }
        }
      ]
    },
    {
      "cell_type": "code",
      "metadata": {
        "id": "31S4w2TFw4rX",
        "outputId": "d19230b9-236a-4fd3-eacb-7b6113c6a221",
        "colab": {
          "base_uri": "https://localhost:8080/"
        }
      },
      "source": [
        "# Make the Model a Pgmpy BayesianModel object\n",
        "model = BayesianModel(estimated_model.edges())\n",
        "model.fit(data=train_data)\n",
        "# Predict with the Bayes Model\n",
        "data_preds = test_data.drop(['target'], axis=1)\n",
        "preds = model.predict(data_preds)"
      ],
      "execution_count": null,
      "outputs": [
        {
          "output_type": "stream",
          "text": [
            " 83%|████████▎ | 3560/4277 [02:28<00:30, 23.28it/s]"
          ],
          "name": "stderr"
        }
      ]
    },
    {
      "cell_type": "code",
      "metadata": {
        "id": "u9gWRw5eJrlT",
        "outputId": "729c7568-ad02-425f-d7fd-60d2872d6768",
        "colab": {
          "base_uri": "https://localhost:8080/"
        }
      },
      "source": [
        "# Test Accuracy of the network\n",
        "LEN_TEST = len(test_data)\n",
        "test_target_vector = test_data['target'].values\n",
        "prediction_vector = preds.values.reshape(-1)\n",
        "accuracy = sum(test_data['target'].values == prediction_vector)/len(test_data)\n",
        "print(\"Accuracy of the Bayesian Model: \", accuracy)"
      ],
      "execution_count": null,
      "outputs": [
        {
          "output_type": "stream",
          "text": [
            "Accuracy of the Bayesian Model:  1.0\n"
          ],
          "name": "stdout"
        }
      ]
    },
    {
      "cell_type": "code",
      "metadata": {
        "id": "Cp0w6jGlp69R"
      },
      "source": [
        "# Results Post:\n",
        "\n",
        "# This model was already found out by a few scientists. We get perfect accuracy from a known model"
      ],
      "execution_count": null,
      "outputs": []
    },
    {
      "cell_type": "code",
      "metadata": {
        "id": "ONB6DvZDqJp_"
      },
      "source": [
        ""
      ],
      "execution_count": null,
      "outputs": []
    }
  ]
}